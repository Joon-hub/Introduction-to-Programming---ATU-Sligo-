
{
 "cells": [
  {
   "cell_type": "markdown",
   "id": "923d0ea1",
   "metadata": {},
   "source": [
    "# Python Overview\n",
    "\n",
    "## Introduction\n",
    "Python is a high-level, general-purpose programming language known for its readability and simplicity.\n",
    "\n",
    "## Common Python Functionality\n",
    "- **Dynamic Typing:** Python variables are dynamically typed, offering flexibility in variable assignments.\n",
    "- **Indentation-based Syntax:** Code structure is determined by indentation, enhancing readability.\n",
    "- **Extensive Standard Library:** Python provides a rich set of modules and libraries for various tasks.\n",
    "\n",
    "## Differences to Other Programming Languages\n",
    "- **Dynamic Typing:** In contrast to many statically typed languages, Python allows dynamic typing without explicit type declarations.\n",
    "- **Syntax:** Python uses indentation for block structure instead of braces, distinguishing it from languages like C or Java.\n",
    "- **Memory Management:** Python features automatic memory management (garbage collection), eliminating manual memory allocation.\n",
    "\n",
    "## Pythonic Style of Programming\n",
    "- **Readability and Simplicity:** \"Pythonic\" code emphasises readability and simplicity.\n",
    "- **List Comprehensions:** A concise and Pythonic way to create lists.\n",
    "- **Duck Typing:** Emphasises an object's behaviour over its type.\n",
    "- **Built-in Functions:** Leveraging Python's rich standard library for common tasks.\n",
    "\n"
   ]
  },
  {
   "cell_type": "markdown",
   "id": "c181280d",
   "metadata": {},
   "source": [
    "# <center>Some Phython Basics </center>"
   ]
  },
  {
   "cell_type": "markdown",
   "id": "f6f882f2",
   "metadata": {},
   "source": [
    "## To run a cell: select cell by clicking on it and then shift+Enter "
   ]
  },
  {
   "cell_type": "markdown",
   "id": "e43a4258",
   "metadata": {},
   "source": [
    "## The print Statement."
   ]
  },
  {
   "cell_type": "markdown",
   "id": "46334116",
   "metadata": {},
   "source": [
    "The '\\n' gives a new line  "
   ]
  },
  {
   "cell_type": "code",
   "execution_count": 1,
   "id": "61bdd443",
   "metadata": {},
   "outputs": [
    {
     "name": "stdout",
     "output_type": "stream",
     "text": [
      "The value of x is 4.587 \n",
      " The value of x rounded to 2 decimal places is 4.59\n"
     ]
    }
   ],
   "source": [
    "x = 4.587\n",
    "print(\"The value of x is\", x, '\\n', 'The value of x rounded to 2 decimal places is', \"{:.2f}\".format(x))"
   ]
  },
  {
   "cell_type": "markdown",
   "id": "90ea141e",
   "metadata": {},
   "source": [
    "## The Basic data types and comments"
   ]
  },
  {
   "cell_type": "code",
   "execution_count": 2,
   "id": "74d9392e",
   "metadata": {},
   "outputs": [
    {
     "name": "stdout",
     "output_type": "stream",
     "text": [
      "Integer Variable: 42\n",
      "Type of Integer Variable: <class 'int'>\n",
      "\n",
      "Float Variable: 3.14\n",
      "Type of Float Variable: <class 'float'>\n",
      "\n",
      "String Variable: Hello, Python!\n",
      "Type of String Variable: <class 'str'>\n",
      "\n",
      "Boolean Variable (True): True\n",
      "Type of Boolean Variable (True): <class 'bool'>\n",
      "\n",
      "Boolean Variable (False): False\n",
      "Type of Boolean Variable (False): <class 'bool'>\n"
     ]
    }
   ],
   "source": [
    "'''\n",
    "Multi-line comments are enclosed in triple quotes.\n",
    "Whereas single-line comments start with the # symbol\n",
    "\n",
    "In this cell we look at the basic data types in python \n",
    "'''\n",
    "\n",
    "# Integers\n",
    "integer_variable = 42 # Single-line comments can be placed at the end of a line of code\n",
    "print(\"Integer Variable:\", integer_variable)\n",
    "print(\"Type of Integer Variable:\", type(integer_variable))\n",
    "\n",
    "# Floats\n",
    "float_variable = 3.14\n",
    "print(\"\\nFloat Variable:\", float_variable)\n",
    "print(\"Type of Float Variable:\", type(float_variable))\n",
    "\n",
    "\n",
    "# Strings\n",
    "string_variable = \"Hello, Python!\"\n",
    "print(\"\\nString Variable:\", string_variable)\n",
    "print(\"Type of String Variable:\", type(string_variable))\n",
    "\n",
    "# Booleans\n",
    "boolean_variable_true = True\n",
    "boolean_variable_false = False\n",
    "print(\"\\nBoolean Variable (True):\", boolean_variable_true)\n",
    "print(\"Type of Boolean Variable (True):\", type(boolean_variable_true))\n",
    "print(\"\\nBoolean Variable (False):\", boolean_variable_false)\n",
    "print(\"Type of Boolean Variable (False):\", type(boolean_variable_false))\n"
   ]
  },
  {
   "cell_type": "markdown",
   "id": "ca38e53b",
   "metadata": {},
   "source": [
    "## Data Type Conversion"
   ]
  },
  {
   "cell_type": "code",
   "execution_count": 3,
   "id": "914083b8",
   "metadata": {},
   "outputs": [
    {
     "name": "stdout",
     "output_type": "stream",
     "text": [
      "Integer to Float:\n",
      "Original Integer: 42\n",
      "Converted to Float: 42.0\n",
      "\n",
      "Type of Original Integer: <class 'int'>\n",
      "Type of Converted Float: <class 'float'>\n",
      "\n",
      "Float to Integer:\n",
      "Original Float: 3.914\n",
      "Converted to Integer: 3\n",
      "\n",
      "Type of Original Float: <class 'float'>\n",
      "Type of Converted Integer: <class 'int'>\n",
      "\n",
      "Integer to String:\n",
      "Original Integer: 42\n",
      "Converted to String: 42\n",
      "\n",
      "Type of Original Integer: <class 'int'>\n",
      "Type of Converted String: <class 'str'>\n",
      "\n",
      "String to Integer:\n",
      "Original String: 123\n",
      "Converted to Integer: 123\n",
      "\n",
      "Type of Original String: <class 'str'>\n",
      "Type of Converted Integer: <class 'int'>\n",
      "\n",
      "Boolean to String:\n",
      "Original Boolean: True\n",
      "Converted to String: True\n",
      "\n",
      "Type of Original Boolean: <class 'bool'>\n",
      "Type of Converted String: <class 'str'>\n",
      "\n",
      "Adding strings 1233.914\n",
      "\n",
      "Adding floats 323.0\n"
     ]
    }
   ],
   "source": [
    "# Integer to Float\n",
    "integer_variable = 42\n",
    "float_variable = float(integer_variable)\n",
    "print(\"Integer to Float:\")\n",
    "print(\"Original Integer:\", integer_variable)\n",
    "print(\"Converted to Float:\", float_variable)\n",
    "print(\"\\nType of Original Integer:\", type(integer_variable))\n",
    "print(\"Type of Converted Float:\", type(float_variable))\n",
    "\n",
    "# Float to Integer, not that it truncates\n",
    "float_variable = 3.914\n",
    "integer_variable = int(float_variable)\n",
    "print(\"\\nFloat to Integer:\")\n",
    "print(\"Original Float:\", float_variable)\n",
    "print(\"Converted to Integer:\", integer_variable)\n",
    "print(\"\\nType of Original Float:\", type(float_variable))\n",
    "print(\"Type of Converted Integer:\", type(integer_variable))\n",
    "\n",
    "# Integer to String\n",
    "integer_variable = 42\n",
    "string_variable = str(integer_variable)\n",
    "print(\"\\nInteger to String:\")\n",
    "print(\"Original Integer:\", integer_variable)\n",
    "print(\"Converted to String:\", string_variable)\n",
    "print(\"\\nType of Original Integer:\", type(integer_variable))\n",
    "print(\"Type of Converted String:\", type(string_variable))\n",
    "\n",
    "# String to Integer\n",
    "string_variable = \"123\"\n",
    "integer_variable = int(string_variable)\n",
    "print(\"\\nString to Integer:\")\n",
    "print(\"Original String:\", string_variable)\n",
    "print(\"Converted to Integer:\", integer_variable)\n",
    "print(\"\\nType of Original String:\", type(string_variable))\n",
    "print(\"Type of Converted Integer:\", type(integer_variable))\n",
    "\n",
    "# Boolean to String\n",
    "boolean_variable = True\n",
    "string_variable = str(boolean_variable)\n",
    "print(\"\\nBoolean to String:\")\n",
    "print(\"Original Boolean:\", boolean_variable)\n",
    "print(\"Converted to String:\", string_variable)\n",
    "print(\"\\nType of Original Boolean:\", type(boolean_variable))\n",
    "print(\"Type of Converted String:\", type(string_variable))\n",
    "\n",
    "# Adding \n",
    "print('\\nAdding strings', str(integer_variable)+str(float_variable))\n",
    "string_variable = \"200\"\n",
    "print('\\nAdding floats', float(int(string_variable)) + float(integer_variable))\n"
   ]
  },
  {
   "cell_type": "markdown",
   "id": "7367e2af",
   "metadata": {},
   "source": [
    "## Assigning Values to Variables"
   ]
  },
  {
   "cell_type": "markdown",
   "id": "2ada9b79",
   "metadata": {},
   "source": [
    "Note that Python is dynamically typed"
   ]
  },
  {
   "cell_type": "code",
   "execution_count": 4,
   "id": "f52d69f4",
   "metadata": {},
   "outputs": [
    {
     "name": "stdout",
     "output_type": "stream",
     "text": [
      "Name: Darragh\n",
      "Age: 26\n",
      "Height: 1.79\n",
      "Is Student: True\n",
      "\n",
      "Name (after reassignment): Aoife\n",
      "Age (after reassignment): 32\n",
      "Height (after reassignment): 1.71\n",
      "Is Student (after reassignment): False\n"
     ]
    }
   ],
   "source": [
    "# Assigning values to variables\n",
    "name = \"Darragh\"\n",
    "age = 26\n",
    "height = 1.79\n",
    "is_student = True\n",
    "\n",
    "# Printing the variables\n",
    "print(\"Name:\", name)\n",
    "print(\"Age:\", age)\n",
    "print(\"Height:\", height)\n",
    "print(\"Is Student:\", is_student)\n",
    "\n",
    "# Reassigning values to variables\n",
    "name = \"Aoife\"\n",
    "age = 32\n",
    "height = 1.71\n",
    "is_student = False\n",
    "\n",
    "# Printing the variables after reassignment\n",
    "print(\"\\nName (after reassignment):\", name)\n",
    "print(\"Age (after reassignment):\", age)\n",
    "print(\"Height (after reassignment):\", height)\n",
    "print(\"Is Student (after reassignment):\", is_student)\n"
   ]
  },
  {
   "cell_type": "markdown",
   "id": "42f1fd86",
   "metadata": {},
   "source": [
    "## Variable naming conventions"
   ]
  },
  {
   "cell_type": "code",
   "execution_count": 9,
   "id": "92010b28",
   "metadata": {},
   "outputs": [
    {
     "name": "stdout",
     "output_type": "stream",
     "text": [
      "Loop iteration: 0\n",
      "Loop iteration: 1\n",
      "Loop iteration: 2\n",
      "Loop iteration: 3\n",
      "Loop iteration: 4\n"
     ]
    }
   ],
   "source": [
    "# Snake Case\n",
    "first_name = \"Darragh\"\n",
    "last_name = \"Murphy\"\n",
    "age_of_person = 26\n",
    "is_student = True\n",
    "\n",
    "# Camel Case (used in some contexts, such as method names)\n",
    "firstName = \"Aoife\"\n",
    "lastName = \"Reynolds\"\n",
    "ageOfPerson = 32\n",
    "isStudent = False\n",
    "\n",
    "# Capitalized Words (often used for constants)\n",
    "PI = 3.14159\n",
    "MAX_VALUE = 100\n",
    "\n",
    "# Avoid single-letter variable names (except for loop counters)\n",
    "for i in range(5):\n",
    "    print(\"Loop iteration:\", i)\n",
    "\n",
    "# Descriptive variable names\n",
    "total_amount = 1000.50\n",
    "average_score = 85.5\n",
    "user_has_permission = False\n",
    "\n",
    "# Avoid using reserved words as variable names\n",
    "class_ = \"Python Class\"\n",
    "global_ = \"Global Variable\"\n",
    "\n",
    "# Use meaningful names that convey the purpose of the variable\n",
    "distance_in_meters = 1500\n",
    "hours_of_study = 10\n",
    "\n",
    "# Be consistent with naming conventions throughout your code\n",
    "total_students = 50\n",
    "totalTeachers = 5  # Not consistent with snake case convention\n",
    "\n",
    "# Note: It's recommended to use snake_case for variable names in most cases as per PEP 8.\n"
   ]
  },
  {
   "cell_type": "markdown",
   "id": "585798aa",
   "metadata": {},
   "source": [
    "## Basic arithmetic operations"
   ]
  },
  {
   "cell_type": "code",
   "execution_count": 10,
   "id": "cb607855",
   "metadata": {},
   "outputs": [
    {
     "name": "stdout",
     "output_type": "stream",
     "text": [
      "Addition Result: 8\n",
      "Subtraction Result: 2\n",
      "Multiplication Result: 15\n",
      "Division Result: 1.6666666666666667\n",
      "Exponentiation Result: 125\n",
      "Modulus Result: 2\n"
     ]
    }
   ],
   "source": [
    "# Addition\n",
    "num1 = 5\n",
    "num2 = 3\n",
    "result_addition = num1 + num2\n",
    "print(\"Addition Result:\", result_addition)\n",
    "\n",
    "# Subtraction\n",
    "result_subtraction = num1 - num2\n",
    "print(\"Subtraction Result:\", result_subtraction)\n",
    "\n",
    "# Multiplication\n",
    "result_multiplication = num1 * num2\n",
    "print(\"Multiplication Result:\", result_multiplication)\n",
    "\n",
    "# Division\n",
    "result_division = num1 / num2\n",
    "print(\"Division Result:\", result_division)\n",
    "\n",
    "# Exponentiation\n",
    "result_exponentiation = num1 ** num2\n",
    "print(\"Exponentiation Result:\", result_exponentiation)\n",
    "\n",
    "# Modulus (remainder of the division)\n",
    "result_modulus = num1 % num2\n",
    "print(\"Modulus Result:\", result_modulus)\n"
   ]
  },
  {
   "cell_type": "code",
   "execution_count": 15,
   "id": "0e506170",
   "metadata": {},
   "outputs": [
    {
     "data": {
      "text/plain": [
       "0"
      ]
     },
     "execution_count": 15,
     "metadata": {},
     "output_type": "execute_result"
    }
   ],
   "source": [
    "6 % 3 # 6 = 2(3) + 0"
   ]
  },
  {
   "cell_type": "markdown",
   "id": "715fe2d8",
   "metadata": {},
   "source": [
    "## Data Stuctures"
   ]
  },
  {
   "cell_type": "markdown",
   "id": "c1aeacca",
   "metadata": {},
   "source": [
    "### Lists"
   ]
  },
  {
   "cell_type": "code",
   "execution_count": 12,
   "id": "8dcfea57",
   "metadata": {},
   "outputs": [
    {
     "name": "stdout",
     "output_type": "stream",
     "text": [
      "Original List: ['apple', 'banana', 'cherry', 'orange', 'kiwi']\n",
      "First Fruit: apple\n",
      "Second Fruit: banana\n",
      "Last Fruit: kiwi\n",
      "\n",
      "List after modification: ['apple', 'banana', 'grape', 'pineapple', 'kiwi']\n",
      "\n",
      "Sliced Fruits: ['banana', 'grape', 'pineapple']\n",
      "Every Second Fruit: ['apple', 'grape', 'kiwi']\n",
      "\n",
      "List after adding elements: ['apple', 'banana', 'mango', 'grape', 'pineapple', 'kiwi', 'watermelon']\n",
      "\n",
      "List after removing elements: ['apple', 'mango', 'grape', 'kiwi', 'watermelon']\n",
      "Removed Fruit: pineapple\n",
      "<class 'int'>\n",
      "\n",
      "List after appending an integer: ['apple', 'mango', 'grape', 'kiwi', 'watermelon', 3]\n"
     ]
    }
   ],
   "source": [
    "# Creating a list\n",
    "fruits = [\"apple\", \"banana\", \"cherry\", \"orange\", \"kiwi\"]\n",
    "\n",
    "# Accessing elements using indexing\n",
    "first_fruit = fruits[0]\n",
    "second_fruit = fruits[1]\n",
    "last_fruit = fruits[-1]\n",
    "\n",
    "print(\"Original List:\", fruits)\n",
    "print(\"First Fruit:\", first_fruit)\n",
    "print(\"Second Fruit:\", second_fruit)\n",
    "print(\"Last Fruit:\", last_fruit)\n",
    "\n",
    "# Modifying elements\n",
    "fruits[2] = \"grape\"\n",
    "fruits[-2] = \"pineapple\"\n",
    "\n",
    "print(\"\\nList after modification:\", fruits)\n",
    "\n",
    "# Slicing a list\n",
    "sliced_fruits = fruits[1:4]  # Elements at index 1, 2, and 3 (not including 4)\n",
    "print(\"\\nSliced Fruits:\", sliced_fruits)\n",
    "\n",
    "# Slicing with a step\n",
    "every_second_fruit = fruits[::2]  # Every second element\n",
    "print(\"Every Second Fruit:\", every_second_fruit)\n",
    "\n",
    "# Adding elements to the end of the list\n",
    "fruits.append(\"watermelon\")\n",
    "\n",
    "# Adding elements at a specific index\n",
    "fruits.insert(2, \"mango\")\n",
    "\n",
    "print(\"\\nList after adding elements:\", fruits)\n",
    "\n",
    "# Removing elements by value\n",
    "fruits.remove(\"banana\")\n",
    "\n",
    "# Removing elements by index\n",
    "removed_fruit = fruits.pop(3)\n",
    "\n",
    "print(\"\\nList after removing elements:\", fruits)\n",
    "print(\"Removed Fruit:\", removed_fruit)\n",
    "\n",
    "# Adding to a list with a \n",
    "integer_variable = 3\n",
    "print(type(integer_variable))\n",
    "fruits.append(integer_variable)\n",
    "print(\"\\nList after appending an integer:\", fruits)\n"
   ]
  },
  {
   "cell_type": "markdown",
   "id": "43b52016",
   "metadata": {},
   "source": [
    "### Tuples and their immutable nature"
   ]
  },
  {
   "cell_type": "code",
   "execution_count": 16,
   "id": "d45d21a0",
   "metadata": {},
   "outputs": [
    {
     "name": "stdout",
     "output_type": "stream",
     "text": [
      "Original Tuple: ('apple', 'banana', 'cherry', 'orange', 'kiwi')\n",
      "First Fruit: apple\n",
      "Second Fruit: banana\n",
      "Last Fruit: kiwi\n",
      "\n",
      "Error: 'tuple' object does not support item assignment - Tuples are immutable\n",
      "\n",
      "Sliced Fruits: ('banana', 'cherry', 'orange')\n",
      "Every Second Fruit: ('apple', 'cherry', 'kiwi')\n"
     ]
    }
   ],
   "source": [
    "# Creating a tuple\n",
    "fruits_tuple = (\"apple\", \"banana\", \"cherry\", \"orange\", \"kiwi\")\n",
    "\n",
    "# Accessing elements using indexing\n",
    "first_fruit = fruits_tuple[0]\n",
    "second_fruit = fruits_tuple[1]\n",
    "last_fruit = fruits_tuple[-1]\n",
    "\n",
    "print(\"Original Tuple:\", fruits_tuple)\n",
    "print(\"First Fruit:\", first_fruit)\n",
    "print(\"Second Fruit:\", second_fruit)\n",
    "print(\"Last Fruit:\", last_fruit)\n",
    "\n",
    "# Attempting to modify a tuple (will result in an error)\n",
    "try:\n",
    "    fruits_tuple[2] = \"grape\"\n",
    "except TypeError as e:\n",
    "    print(\"\\nError:\", e, \"- Tuples are immutable\")\n",
    "\n",
    "# Slicing a tuple\n",
    "sliced_fruits = fruits_tuple[1:4]  # Elements at index 1, 2, and 3 (not including 4)\n",
    "print(\"\\nSliced Fruits:\", sliced_fruits)\n",
    "\n",
    "# Slicing with a step\n",
    "every_second_fruit = fruits_tuple[::2]  # Every second element\n",
    "print(\"Every Second Fruit:\", every_second_fruit)\n"
   ]
  },
  {
   "cell_type": "markdown",
   "id": "a7049b34",
   "metadata": {},
   "source": [
    "### Dictionaries"
   ]
  },
  {
   "cell_type": "code",
   "execution_count": 17,
   "id": "74588296",
   "metadata": {},
   "outputs": [
    {
     "name": "stdout",
     "output_type": "stream",
     "text": [
      "Original Dictionary: {'name': 'Darragh Murphy', 'age': 26, 'city': 'Sligo', 'is_student': True}\n",
      "Name: Darragh Murphy\n",
      "Age: 26\n",
      "\n",
      "Dictionary after modification: {'name': 'Darragh Murphy', 'age': 31, 'city': 'Ballina', 'is_student': False}\n",
      "\n",
      "Dictionary after adding new elements: {'name': 'Darragh Murphy', 'age': 31, 'city': 'Ballina', 'is_student': False, 'gender': 'Male', 'occupation': 'Data Scientist'}\n",
      "\n",
      "Dictionary after removing 'age' key: {'name': 'Darragh Murphy', 'city': 'Ballina', 'is_student': False, 'gender': 'Male', 'occupation': 'Data Scientist'}\n",
      "Removed Age: 31\n"
     ]
    }
   ],
   "source": [
    "# Creating a dictionary\n",
    "person_info = {\n",
    "    \"name\": \"Darragh Murphy\",\n",
    "    \"age\": 26,\n",
    "    \"city\": \"Sligo\",\n",
    "    \"is_student\": True\n",
    "}\n",
    "\n",
    "# Accessing elements using keys\n",
    "person_name = person_info[\"name\"]\n",
    "person_age = person_info[\"age\"]\n",
    "\n",
    "print(\"Original Dictionary:\", person_info)\n",
    "print(\"Name:\", person_name)\n",
    "print(\"Age:\", person_age)\n",
    "\n",
    "# Modifying dictionary elements\n",
    "person_info[\"age\"] = 31\n",
    "person_info[\"city\"] = \"Ballina\"\n",
    "person_info[\"is_student\"] = False\n",
    "\n",
    "print(\"\\nDictionary after modification:\", person_info)\n",
    "\n",
    "# Adding new elements to the dictionary\n",
    "person_info[\"gender\"] = \"Male\"\n",
    "person_info[\"occupation\"] = \"Data Scientist\"\n",
    "\n",
    "print(\"\\nDictionary after adding new elements:\", person_info)\n",
    "\n",
    "# Removing elements from the dictionary\n",
    "removed_age = person_info.pop(\"age\")\n",
    "\n",
    "print(\"\\nDictionary after removing 'age' key:\", person_info)\n",
    "print(\"Removed Age:\", removed_age)\n"
   ]
  },
  {
   "cell_type": "markdown",
   "id": "75ead249",
   "metadata": {},
   "source": [
    "## Control Flow"
   ]
  },
  {
   "cell_type": "markdown",
   "id": "679c0d8d",
   "metadata": {},
   "source": [
    "### Conditional statements"
   ]
  },
  {
   "cell_type": "code",
   "execution_count": 23,
   "id": "77a02890",
   "metadata": {},
   "outputs": [
    {
     "name": "stdout",
     "output_type": "stream",
     "text": [
      "It's a hot day.\n",
      "Go for a walk.\n",
      "Plan some activities.\n"
     ]
    }
   ],
   "source": [
    "# Example variables\n",
    "temperature = 32\n",
    "is_raining = False\n",
    "\n",
    "# Using if, elif, and else statements\n",
    "if temperature > 30:\n",
    "    print(\"It's a hot day.\")\n",
    "elif 20 <= temperature <= 30:\n",
    "    print(\"It's a pleasant day.\")\n",
    "else:\n",
    "    print(\"It's a cold day.\")\n",
    "\n",
    "# Using logical operators\n",
    "if temperature > 25 and not is_raining:\n",
    "    print(\"Go for a walk.\")\n",
    "\n",
    "# Another example\n",
    "is_weekend = False\n",
    "has_guests = True\n",
    "\n",
    "if is_weekend or has_guests:\n",
    "    print(\"Plan some activities.\")\n",
    "else:\n",
    "    print(\"Relax at home.\")\n"
   ]
  },
  {
   "cell_type": "markdown",
   "id": "74caffa4",
   "metadata": {},
   "source": [
    "### Loops"
   ]
  },
  {
   "cell_type": "code",
   "execution_count": 27,
   "id": "e7d7bb61",
   "metadata": {},
   "outputs": [
    {
     "name": "stdout",
     "output_type": "stream",
     "text": [
      "Using for loop:\n",
      "0\n",
      "1\n",
      "2\n",
      "3\n",
      "4\n",
      "\n",
      "Using while loop:\n",
      "0\n",
      "1\n",
      "2\n",
      "3\n",
      "4\n",
      "\n",
      "Using for loop with a list of numbers:\n",
      "1\n",
      "2\n",
      "7\n",
      "4\n",
      "5\n",
      "\n",
      "Using while loop with a list of numbers:\n",
      "1\n",
      "2\n",
      "7\n",
      "4\n",
      "5\n",
      "\n",
      "Using for loop with a dictionary of numbers:\n",
      "Math: 90\n",
      "English: 85\n",
      "Science: 92\n",
      "\n",
      "Using while loop with a dictionary of numbers:\n",
      "Math: 90\n",
      "English: 85\n",
      "Science: 92\n"
     ]
    }
   ],
   "source": [
    "# Using a for loop \n",
    "print(\"Using for loop:\")\n",
    "for i in range(5):  # Loop from 0 to 4\n",
    "    print(i)\n",
    "\n",
    "# Using a while loop \n",
    "print(\"\\nUsing while loop:\")\n",
    "count = 0\n",
    "while count < 5:\n",
    "    print(count)\n",
    "    count += 1 # count = count + 1\n",
    "\n",
    "# Using a for loop with a list of numbers\n",
    "numbers = [1, 2, 7, 4, 5]\n",
    "print(\"\\nUsing for loop with a list of numbers:\")\n",
    "for num in numbers:\n",
    "    print(num)\n",
    "\n",
    "# Using a while loop with a list of numbers\n",
    "print(\"\\nUsing while loop with a list of numbers:\")\n",
    "index = 0\n",
    "while index < len(numbers):\n",
    "    print(numbers[index])\n",
    "    index += 1\n",
    "\n",
    "# Using a for loop with a dictionary of numbers\n",
    "grades = {\"Math\": 90, \"English\": 85, \"Science\": 92}\n",
    "print(\"\\nUsing for loop with a dictionary of numbers:\")\n",
    "for subject, score in grades.items():\n",
    "    print(f\"{subject}: {score}\")\n",
    "\n",
    "# Using a while loop with a dictionary of numbers\n",
    "subjects = list(grades.keys())\n",
    "print(\"\\nUsing while loop with a dictionary of numbers:\")\n",
    "index = 0\n",
    "while index < len(subjects):\n",
    "    subject = subjects[index]\n",
    "    score = grades[subject]\n",
    "    print(f\"{subject}: {score}\")\n",
    "    index += 1\n"
   ]
  },
  {
   "cell_type": "markdown",
   "id": "9473b091",
   "metadata": {},
   "source": [
    "### Loops with continue and break"
   ]
  },
  {
   "cell_type": "code",
   "execution_count": 28,
   "id": "cf32a03c",
   "metadata": {},
   "outputs": [
    {
     "name": "stdout",
     "output_type": "stream",
     "text": [
      "\n",
      "i = 0 count =  0\n",
      "\n",
      "i = 1 count =  0\n",
      "i = 1 count =  2\n",
      "\n",
      "i = 2 count =  2\n",
      "i = 2 count =  4\n",
      "\n",
      "i = 3 count =  4\n",
      "\n",
      "i = 4 count =  4\n",
      "i = 4 count =  6\n",
      "\n",
      "i = 5 count =  6\n",
      "\n",
      "i = 6 count =  6\n",
      "\n",
      "i = 7 count =  6\n",
      "\n",
      "i = 8 count =  6\n",
      "i = 8 count =  8\n",
      "\n",
      " Final Answer is: 8\n"
     ]
    }
   ],
   "source": [
    "# Just for fun, read code a comment on the Final Answer\n",
    "count = 0\n",
    "for i in range(100):\n",
    "    print('\\ni =', i, 'count = ', count)\n",
    "    if i % 3 == 0 or i % 5 == 0 or i%7 == 0:\n",
    "        continue\n",
    "    count += 2\n",
    "    print('i =', i, 'count = ', count)\n",
    "    if count == i:\n",
    "        break\n",
    "print('\\n Final Answer is:', i)"
   ]
  },
  {
   "cell_type": "markdown",
   "id": "e9b098f0",
   "metadata": {},
   "source": [
    "## Help"
   ]
  },
  {
   "cell_type": "code",
   "execution_count": 29,
   "id": "c4d7b7a3",
   "metadata": {},
   "outputs": [
    {
     "name": "stdout",
     "output_type": "stream",
     "text": [
      "Help on class zip in module builtins:\n",
      "\n",
      "class zip(object)\n",
      " |  zip(*iterables, strict=False) --> Yield tuples until an input is exhausted.\n",
      " |  \n",
      " |     >>> list(zip('abcdefg', range(3), range(4)))\n",
      " |     [('a', 0, 0), ('b', 1, 1), ('c', 2, 2)]\n",
      " |  \n",
      " |  The zip object yields n-length tuples, where n is the number of iterables\n",
      " |  passed as positional arguments to zip().  The i-th element in every tuple\n",
      " |  comes from the i-th iterable argument to zip().  This continues until the\n",
      " |  shortest argument is exhausted.\n",
      " |  \n",
      " |  If strict is true and one of the arguments is exhausted before the others,\n",
      " |  raise a ValueError.\n",
      " |  \n",
      " |  Methods defined here:\n",
      " |  \n",
      " |  __getattribute__(self, name, /)\n",
      " |      Return getattr(self, name).\n",
      " |  \n",
      " |  __iter__(self, /)\n",
      " |      Implement iter(self).\n",
      " |  \n",
      " |  __next__(self, /)\n",
      " |      Implement next(self).\n",
      " |  \n",
      " |  __reduce__(...)\n",
      " |      Return state information for pickling.\n",
      " |  \n",
      " |  __setstate__(...)\n",
      " |      Set state information for unpickling.\n",
      " |  \n",
      " |  ----------------------------------------------------------------------\n",
      " |  Static methods defined here:\n",
      " |  \n",
      " |  __new__(*args, **kwargs) from builtins.type\n",
      " |      Create and return a new object.  See help(type) for accurate signature.\n",
      "\n"
     ]
    }
   ],
   "source": [
    "help(zip)"
   ]
  },
  {
   "cell_type": "markdown",
   "id": "21761fd6",
   "metadata": {},
   "source": [
    "## Functions"
   ]
  },
  {
   "cell_type": "code",
   "execution_count": null,
   "id": "0e2a5b0e",
   "metadata": {},
   "outputs": [],
   "source": [
    "# Function to calculate the mean of a list of numbers with an optional weight parameter\n",
    "def calculate_mean(numbers, weights=None):\n",
    "    \"\"\"\n",
    "    This function calculates the mean of a list of numbers.\n",
    "    If weights are provided, it calculates the weighted mean.\n",
    "    \"\"\"\n",
    "    if weights is not None and len(numbers) != len(weights):\n",
    "        raise ValueError(\"Number of elements and weights must be the same.\")\n",
    "    \n",
    "    if weights is None:\n",
    "        total = sum(numbers)\n",
    "        mean = total / len(numbers)\n",
    "    else:\n",
    "        weighted_sum = sum(x * w for x, w in zip(numbers, weights))\n",
    "        total_weight = sum(weights)\n",
    "        mean = weighted_sum / total_weight\n",
    "    \n",
    "    return mean\n",
    "\n",
    "# Function to calculate the median of a list of numbers\n",
    "def calculate_median(numbers):\n",
    "    \"\"\"This function calculates the median of a list of numbers.\"\"\"\n",
    "    sorted_numbers = sorted(numbers)\n",
    "    n = len(sorted_numbers)\n",
    "    if n % 2 == 0:\n",
    "        # For an even number of elements, average the middle two\n",
    "        middle1 = sorted_numbers[n // 2 - 1]\n",
    "        middle2 = sorted_numbers[n // 2]\n",
    "        median = (middle1 + middle2) / 2\n",
    "    else:\n",
    "        # For an odd number of elements, pick the middle one\n",
    "        median = sorted_numbers[n // 2]\n",
    "    return median\n",
    "\n",
    "# Sample data\n",
    "data = [10, 5, 8, 12, 3, 9, 15, 7, 1]\n",
    "weights = [1, 2, 1, 0, 2, 1, 1, 1, 3] \n",
    "\n",
    "# Using the functions\n",
    "mean_result = calculate_mean(data)\n",
    "weighted_mean_result = calculate_mean(data,weights)\n",
    "median_result = calculate_median(data)\n",
    "\n",
    "# Output the results\n",
    "print(\"Data:\", data)\n",
    "print(\"Ranked Data:\", sorted(data))\n",
    "print(\"Mean:\", \"{:.4f}\".format(mean_result))\n",
    "print(\"weighted Mean:\", \"{:.4f}\".format(weighted_mean_result))\n",
    "\n",
    "print(\"Median:\", median_result)\n",
    "\n",
    "# Brief introduction to lambda for custom operations\n",
    "square = lambda x: x ** 2\n",
    "cube = lambda x: x ** 3\n",
    "\n",
    "# Using the lambda functions\n",
    "squared_values = list(map(square, data))\n",
    "cubed_values = list(map(cube, data))\n",
    "\n",
    "# Output the squared and cubed values\n",
    "print(\"\\nSquared Values:\", squared_values)\n",
    "print(\"Cubed Values:\", cubed_values)\n"
   ]
  },
  {
   "cell_type": "markdown",
   "id": "ccd4eeef",
   "metadata": {},
   "source": [
    "## Copy"
   ]
  },
  {
   "cell_type": "code",
   "execution_count": 30,
   "id": "346edbab",
   "metadata": {},
   "outputs": [
    {
     "name": "stdout",
     "output_type": "stream",
     "text": [
      "3 is in the list.\n",
      "Original List: [1, 2, 3, 4, 5]\n",
      "Squared List: [1, 4, 9, 16, 25]\n",
      "\n",
      "The use of copy and id\n",
      "Original List: [1, 2, [3, 4]]\n",
      "Original id: 2203506952320\n",
      "Shallow Copy id: 2203520725888\n",
      "Original List: [1, 2, [99, 4]]\n",
      "Shallow Copy: [1, 2, [3, 4]]\n",
      "Original id: 2203506952320\n",
      "Deep Copy id: 2203512764032\n",
      "Original List: [1, 2, [99, 88]]\n",
      "Deep Copy: [1, 2, [99, 4]]\n"
     ]
    }
   ],
   "source": [
    "# Copy and id\n",
    "\n",
    "# 1. 'in' keyword\n",
    "# Check if an element is present in a list or string\n",
    "element_to_check = 3\n",
    "my_list = [1, 2, 3, 4, 5]\n",
    "\n",
    "if element_to_check in my_list:\n",
    "    print(f\"{element_to_check} is in the list.\")\n",
    "else:\n",
    "    print(f\"{element_to_check} is not in the list.\")\n",
    "\n",
    "# 2. List Comprehensions\n",
    "# Create a new list based on an existing list using a concise syntax\n",
    "original_list = [1, 2, 3, 4, 5]\n",
    "squared_list = [x**2 for x in original_list]\n",
    "\n",
    "print(\"Original List:\", original_list)\n",
    "print(\"Squared List:\", squared_list)\n",
    "\n",
    "# 3. Copy, id, and altering values after a copy\n",
    "import copy\n",
    "print(\"\\nThe use of copy and id\")\n",
    "# Shallow copy using copy.copy()\n",
    "original_list = [1, 2, [3, 4]]\n",
    "print(\"Original List:\", original_list)\n",
    "shallow_copy = copy.copy(original_list)\n",
    "\n",
    "# Check if the ids are different (shallow copy)\n",
    "print(f\"Original id: {id(original_list)}\")\n",
    "print(f\"Shallow Copy id: {id(shallow_copy)}\")\n",
    "\n",
    "# Deep copy for the nested list using copy.deepcopy()\n",
    "shallow_copy[2] = copy.deepcopy(original_list[2])\n",
    "\n",
    "# Altering the original list does not affect the shallow copy\n",
    "original_list[2][0] = 99\n",
    "print(\"Original List:\", original_list)\n",
    "print(\"Shallow Copy:\", shallow_copy)\n",
    "\n",
    "# Deep copy using copy.deepcopy()\n",
    "deep_copy = copy.deepcopy(original_list)\n",
    "\n",
    "# Check if the ids are different (deep copy)\n",
    "print(f\"Original id: {id(original_list)}\")\n",
    "print(f\"Deep Copy id: {id(deep_copy)}\")\n",
    "\n",
    "# Altering the original list does not affect the deep copy\n",
    "original_list[2][1] = 88\n",
    "print(\"Original List:\", original_list)\n",
    "print(\"Deep Copy:\", deep_copy)\n"
   ]
  },
  {
   "cell_type": "markdown",
   "id": "fa85d4e2",
   "metadata": {},
   "source": [
    "## Equivalent lists"
   ]
  },
  {
   "cell_type": "code",
   "execution_count": 62,
   "id": "d619c0a0",
   "metadata": {},
   "outputs": [
    {
     "name": "stdout",
     "output_type": "stream",
     "text": [
      "original_list = [0, 1, 2, 3, 4, 5, 6, 7, 8, 9, 10] with id =  1890907346432\n",
      "equivalent_list = [0, 1, 2, 3, 4, 5, 6, 7, 8, 9, 10] with id =  1890907346432\n",
      "original_list is equivalent_list True\n",
      "\n",
      "alter the original\n",
      "original_list = [0, 1, 22, 3, 4, 5, 6, 7, 8, 9, 10] with id =  1890907346432\n",
      "equivalent_list = [0, 1, 22, 3, 4, 5, 6, 7, 8, 9, 10] with id =  1890907346432\n",
      "\n",
      "alter the equivalent\n",
      "original_list = [0, 1, 22, 3, 44, 5, 6, 7, 8, 9, 10] with id =  1890907346432\n",
      "equivalent_list = [0, 1, 22, 3, 44, 5, 6, 7, 8, 9, 10] with id =  1890907346432\n"
     ]
    }
   ],
   "source": [
    "original_list = [i for i in range(11)]\n",
    "equivalent_list = original_list\n",
    "print('original_list =', original_list, 'with id = ', id(original_list))\n",
    "print('equivalent_list =', equivalent_list, 'with id = ', id(equivalent_list))\n",
    "print('original_list is equivalent_list', original_list is equivalent_list)\n",
    "\n",
    "# altering the original also alters the equivalent\n",
    "original_list[2] = 22\n",
    "print('\\nalter the original')\n",
    "print('original_list =', original_list, 'with id = ', id(original_list))\n",
    "print('equivalent_list =', equivalent_list, 'with id = ', id(equivalent_list))\n",
    "\n",
    "# altering the equivalent also alters the original\n",
    "equivalent_list[4] = 44\n",
    "print('\\nalter the equivalent')\n",
    "print('original_list =', original_list, 'with id = ', id(original_list))\n",
    "print('equivalent_list =', equivalent_list, 'with id = ', id(equivalent_list))\n"
   ]
  },
  {
   "cell_type": "code",
   "execution_count": null,
   "id": "b009e9cf",
   "metadata": {},
   "outputs": [],
   "source": []
  }
 ],
 "metadata": {
  "kernelspec": {
   "display_name": "Python 3 (ipykernel)",
   "language": "python",
   "name": "python3"
  },
  "language_info": {
   "codemirror_mode": {
    "name": "ipython",
    "version": 3
   },
   "file_extension": ".py",
   "mimetype": "text/x-python",
   "name": "python",
   "nbconvert_exporter": "python",
   "pygments_lexer": "ipython3",
   "version": "3.11.5"
  }
 },
 "nbformat": 4,
 "nbformat_minor": 5
}